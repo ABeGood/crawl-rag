{
 "cells": [
  {
   "cell_type": "code",
   "execution_count": 3,
   "id": "3e58525d",
   "metadata": {},
   "outputs": [],
   "source": [
    "import requests\n",
    "import xml.etree.ElementTree as ET"
   ]
  },
  {
   "cell_type": "code",
   "execution_count": 4,
   "id": "26654573",
   "metadata": {},
   "outputs": [],
   "source": [
    "def get_urls(sitemap_url: str = \"https://www.krasanamiru.cz/product-sitemap.xml\") -> list[str]:\n",
    "    \"\"\"\n",
    "    Extract product URLs from XML sitemap.\n",
    "    \n",
    "    Args:\n",
    "        sitemap_url: URL of the XML sitemap\n",
    "        \n",
    "    Returns:\n",
    "        List of product URLs\n",
    "    \"\"\"\n",
    "    try:\n",
    "        print(f\"🔍 Fetching sitemap: {sitemap_url}\")\n",
    "        response = requests.get(sitemap_url, timeout=30)\n",
    "        response.raise_for_status()\n",
    "        \n",
    "        # Parse XML\n",
    "        root = ET.fromstring(response.content)\n",
    "        \n",
    "        # Handle namespace (common in sitemaps)\n",
    "        namespace = {'ns': 'http://www.sitemaps.org/schemas/sitemap/0.9'}\n",
    "        \n",
    "        # Extract URLs\n",
    "        urls = []\n",
    "        for url_element in root.findall('.//ns:url', namespace):\n",
    "            loc_element = url_element.find('ns:loc', namespace)\n",
    "            if loc_element is not None:\n",
    "                urls.append(loc_element.text)\n",
    "        \n",
    "        # Fallback: try without namespace\n",
    "        if not urls:\n",
    "            for url_element in root.findall('.//url'):\n",
    "                loc_element = url_element.find('loc')\n",
    "                if loc_element is not None:\n",
    "                    urls.append(loc_element.text)\n",
    "        \n",
    "        print(f\"✅ Found {len(urls)} URLs in sitemap\")\n",
    "        return urls\n",
    "        \n",
    "    except Exception as e:\n",
    "        print(f\"❌ Error fetching sitemap: {e}\")\n",
    "        return []"
   ]
  },
  {
   "cell_type": "code",
   "execution_count": 5,
   "id": "dc176c9c",
   "metadata": {},
   "outputs": [
    {
     "name": "stdout",
     "output_type": "stream",
     "text": [
      "🔍 Fetching sitemap: https://www.krasanamiru.cz/product-sitemap.xml\n",
      "✅ Found 661 URLs in sitemap\n"
     ]
    }
   ],
   "source": [
    "urls = get_urls()"
   ]
  },
  {
   "cell_type": "code",
   "execution_count": 12,
   "id": "f00011bc",
   "metadata": {},
   "outputs": [
    {
     "data": {
      "text/plain": [
       "True"
      ]
     },
     "execution_count": 12,
     "metadata": {},
     "output_type": "execute_result"
    }
   ],
   "source": [
    "url = 'https://www.krasanamiru.cz/produkty/kompaktni-bronzujici-pudr-golden-caramel/'\n",
    "url in urls"
   ]
  },
  {
   "cell_type": "code",
   "execution_count": 14,
   "id": "246566a7",
   "metadata": {},
   "outputs": [],
   "source": [
    "with open('product_urls.txt', 'w') as f:\n",
    "    f.write('\\n'.join(map(str, urls)))"
   ]
  }
 ],
 "metadata": {
  "kernelspec": {
   "display_name": ".venv",
   "language": "python",
   "name": "python3"
  },
  "language_info": {
   "codemirror_mode": {
    "name": "ipython",
    "version": 3
   },
   "file_extension": ".py",
   "mimetype": "text/x-python",
   "name": "python",
   "nbconvert_exporter": "python",
   "pygments_lexer": "ipython3",
   "version": "3.12.0"
  }
 },
 "nbformat": 4,
 "nbformat_minor": 5
}
